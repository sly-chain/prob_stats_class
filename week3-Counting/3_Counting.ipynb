{
 "cells": [
  {
   "cell_type": "markdown",
   "metadata": {},
   "source": [
    "# 3 Counting\n",
    "## 3.1 Disjoint Unions"
   ]
  },
  {
   "cell_type": "code",
   "execution_count": 1,
   "metadata": {
    "collapsed": false
   },
   "outputs": [
    {
     "name": "stdout",
     "output_type": "stream",
     "text": [
      "2\n"
     ]
    }
   ],
   "source": [
    "# Size of a set\n",
    "NewSet = {1, 2}\n",
    "print(len(NewSet))"
   ]
  },
  {
   "cell_type": "code",
   "execution_count": 2,
   "metadata": {
    "collapsed": false
   },
   "outputs": [
    {
     "name": "stdout",
     "output_type": "stream",
     "text": [
      "1\n"
     ]
    }
   ],
   "source": [
    "# Smallest element in a set\n",
    "NewSet = {2, 1, 3}\n",
    "print(min(NewSet))"
   ]
  },
  {
   "cell_type": "code",
   "execution_count": 3,
   "metadata": {
    "collapsed": false
   },
   "outputs": [
    {
     "name": "stdout",
     "output_type": "stream",
     "text": [
      "-1\n"
     ]
    }
   ],
   "source": [
    "# Largest element in a set\n",
    "NewSet = {-9, -1, -7}\n",
    "print(max(NewSet))"
   ]
  },
  {
   "cell_type": "code",
   "execution_count": 4,
   "metadata": {
    "collapsed": false
   },
   "outputs": [
    {
     "name": "stdout",
     "output_type": "stream",
     "text": [
      "17\n"
     ]
    }
   ],
   "source": [
    "# Print the sum of elements of a set\n",
    "A = {1, 5, 2, -10, 19}\n",
    "print(sum(A))"
   ]
  },
  {
   "cell_type": "code",
   "execution_count": 5,
   "metadata": {
    "collapsed": false
   },
   "outputs": [
    {
     "name": "stdout",
     "output_type": "stream",
     "text": [
      "17\n"
     ]
    }
   ],
   "source": [
    "# Verify the above using a 'for' loop\n",
    "total=0\n",
    "for i in A:\n",
    "    total += i\n",
    "print(total)"
   ]
  },
  {
   "cell_type": "code",
   "execution_count": 6,
   "metadata": {
    "collapsed": false,
    "scrolled": true
   },
   "outputs": [
    {
     "name": "stdout",
     "output_type": "stream",
     "text": [
      "(3, 3)\n"
     ]
    }
   ],
   "source": [
    "A = {1, 2, 3}\n",
    "B = {1, 3, 5}\n",
    "print(len(A),len(B))"
   ]
  },
  {
   "cell_type": "code",
   "execution_count": 7,
   "metadata": {
    "collapsed": false
   },
   "outputs": [
    {
     "name": "stdout",
     "output_type": "stream",
     "text": [
      "(set([1, 3]), '\\n', 2)\n"
     ]
    }
   ],
   "source": [
    "# Intersection\n",
    "C = A & B\n",
    "print(C, \"\\n\", len(C))"
   ]
  },
  {
   "cell_type": "code",
   "execution_count": 8,
   "metadata": {
    "collapsed": false
   },
   "outputs": [
    {
     "name": "stdout",
     "output_type": "stream",
     "text": [
      "(set([2]), '\\n', 1)\n"
     ]
    }
   ],
   "source": [
    "# Difference\n",
    "E = A-B\n",
    "print(E, \"\\n\", len(E))"
   ]
  },
  {
   "cell_type": "markdown",
   "metadata": {},
   "source": [
    "## 3.2 General Unions\n",
    "\n",
    "Calculate size of union in two ways: directly and using inclusion exclusion"
   ]
  },
  {
   "cell_type": "code",
   "execution_count": 9,
   "metadata": {
    "collapsed": false
   },
   "outputs": [
    {
     "name": "stdout",
     "output_type": "stream",
     "text": [
      "(set([1, 2, 3, 5]), '\\n', 4, '\\n', 4)\n"
     ]
    }
   ],
   "source": [
    "# Union\n",
    "D = A | B\n",
    "print(D, \"\\n\", len(D) ,\"\\n\", len(A)+len(B)-len(C))"
   ]
  },
  {
   "cell_type": "markdown",
   "metadata": {},
   "source": [
    "## 3.3 Cartesian Products\n",
    "\n",
    "We'll find the cartesian product of two sets $A$ and $B$ and determine $|A\\times B|$ in two ways. First, by counting the number of elements in $A\\times B$, then by simply multiplying $|A|$ by $|B|$. We begin by importing the **itertools** library."
   ]
  },
  {
   "cell_type": "code",
   "execution_count": 1,
   "metadata": {
    "collapsed": true
   },
   "outputs": [],
   "source": [
    "import itertools"
   ]
  },
  {
   "cell_type": "code",
   "execution_count": 2,
   "metadata": {
    "collapsed": true
   },
   "outputs": [],
   "source": [
    "A = {1, 2, 3}\n",
    "B = {4, 5}"
   ]
  },
  {
   "cell_type": "code",
   "execution_count": 3,
   "metadata": {
    "collapsed": false
   },
   "outputs": [
    {
     "name": "stdout",
     "output_type": "stream",
     "text": [
      "Ordered pairs in {1, 2, 3} x {4, 5}:  \n",
      "(1, 4)\n",
      "(1, 5)\n",
      "(2, 5)\n",
      "(3, 4)\n",
      "(2, 4)\n",
      "(3, 5)\n",
      "Size = 6\n"
     ]
    }
   ],
   "source": [
    "# Find cartesian product A X B and its size\n",
    "cartesian_product = set([i for i in itertools.product(A, B)])\n",
    "print(\"Ordered pairs in %s x %s:  \" %(A,B))\n",
    "for i in cartesian_product:\n",
    "    print(i)\n",
    "print(\"Size = %i\" %len(cartesian_product))"
   ]
  },
  {
   "cell_type": "code",
   "execution_count": 4,
   "metadata": {
    "collapsed": false
   },
   "outputs": [
    {
     "name": "stdout",
     "output_type": "stream",
     "text": [
      "6\n"
     ]
    }
   ],
   "source": [
    "# |A X B| directly\n",
    "print(len(cartesian_product))"
   ]
  },
  {
   "cell_type": "code",
   "execution_count": 5,
   "metadata": {
    "collapsed": false
   },
   "outputs": [
    {
     "name": "stdout",
     "output_type": "stream",
     "text": [
      "6\n"
     ]
    }
   ],
   "source": [
    "# |A X B| using product rule\n",
    "print(len(A)*len(B))"
   ]
  },
  {
   "cell_type": "markdown",
   "metadata": {},
   "source": [
    "## 3.3 Cartesian Powers"
   ]
  },
  {
   "cell_type": "markdown",
   "metadata": {},
   "source": [
    "We determine the size of $A^k$, the $k$-th cartesian power of $A$ in two ways: calculating $A^k$ and its size, and then via the formula $|A|^k$."
   ]
  },
  {
   "cell_type": "code",
   "execution_count": 6,
   "metadata": {
    "collapsed": true
   },
   "outputs": [],
   "source": [
    "A = {1, 2, 3}\n",
    "k = 2"
   ]
  },
  {
   "cell_type": "code",
   "execution_count": 7,
   "metadata": {
    "collapsed": false
   },
   "outputs": [
    {
     "name": "stdout",
     "output_type": "stream",
     "text": [
      "{(1, 2), (3, 2), (1, 3), (3, 3), (3, 1), (2, 1), (2, 3), (2, 2), (1, 1)}\n"
     ]
    }
   ],
   "source": [
    "# Print k'th cartesian power of A\n",
    "print(set(itertools.product(A, repeat = k)))"
   ]
  },
  {
   "cell_type": "code",
   "execution_count": 8,
   "metadata": {
    "collapsed": false,
    "scrolled": false
   },
   "outputs": [
    {
     "name": "stdout",
     "output_type": "stream",
     "text": [
      "Tuples in {1, 2, 3}^2: \n",
      "(1, 2)\n",
      "(3, 2)\n",
      "(1, 3)\n",
      "(3, 3)\n",
      "(3, 1)\n",
      "(2, 1)\n",
      "(2, 3)\n",
      "(2, 2)\n",
      "(1, 1)\n",
      "Size =  9\n"
     ]
    }
   ],
   "source": [
    "# Specilized printing\n",
    "cartesian_power = set([i for i in itertools.product(A, repeat = k)])\n",
    "print(\"Tuples in %s^%i: \" %(A,k))\n",
    "for i in cartesian_power:\n",
    "    print(i)\n",
    "print;print(\"Size = \", len(cartesian_power))"
   ]
  },
  {
   "cell_type": "code",
   "execution_count": 9,
   "metadata": {
    "collapsed": false
   },
   "outputs": [
    {
     "name": "stdout",
     "output_type": "stream",
     "text": [
      "9\n"
     ]
    }
   ],
   "source": [
    "# Find |A|^k directly\n",
    "print(len(A)**k)"
   ]
  },
  {
   "cell_type": "markdown",
   "metadata": {},
   "source": [
    "Next we calculate and graph the exponential $2^x$ and the polynomials $x$ and $x^2$. Move the slider to see that the exponential grows much faster than the polynomials. Please experiment with different functions to see how fast they grow. "
   ]
  },
  {
   "cell_type": "code",
   "execution_count": 10,
   "metadata": {
    "collapsed": true
   },
   "outputs": [],
   "source": [
    "import matplotlib.pyplot as plt\n",
    "import numpy as np"
   ]
  },
  {
   "cell_type": "code",
   "execution_count": 11,
   "metadata": {
    "collapsed": true
   },
   "outputs": [],
   "source": [
    "import ipywidgets as widgets"
   ]
  },
  {
   "cell_type": "code",
   "execution_count": 12,
   "metadata": {
    "collapsed": false
   },
   "outputs": [
    {
     "data": {
      "image/png": "[encoded data removed]",
      "text/plain": [
       "<matplotlib.figure.Figure at 0x10f6c9ef0>"
      ]
     },
     "metadata": {},
     "output_type": "display_data"
    }
   ],
   "source": [
    "def f(x_max):\n",
    "    x = np.arange(0, x_max, 0.01)\n",
    "    plt.plot(x, x, 'b', linewidth = 3, label = '$x$')\n",
    "    plt.plot(x, x**2, 'r', linewidth = 3, label = '$x^2$')\n",
    "    plt.plot(x, 2**x, 'm', linewidth = 3, label = '$2^x$')\n",
    "    plt.xlabel('x', fontsize = 20)\n",
    "    plt.xticks(fontsize = 18)\n",
    "    plt.yticks(np.linspace(max(2**x_max, x_max**2)/10, max(2**x_max, x_max**2), 10), fontsize = 18)\n",
    "    plt.gca().set_xlim([0, x_max])\n",
    "    plt.gca().set_ylim([0, max(2**x_max, x_max**2)])\n",
    "    plt.gcf().set_size_inches(20, 10)\n",
    "    plt.legend(fontsize = 20)\n",
    "    plt.show()\n",
    "    \n",
    "widgets.interact(f, x_max=widgets.FloatSlider(min = 0.5, max = 20, step = 0.5))"
   ]
  },
  {
   "cell_type": "markdown",
   "metadata": {},
   "source": [
    "## Counting Divisors"
   ]
  },
  {
   "cell_type": "code",
   "execution_count": 13,
   "metadata": {
    "collapsed": false
   },
   "outputs": [
    {
     "name": "stdout",
     "output_type": "stream",
     "text": [
      "36\n"
     ]
    }
   ],
   "source": [
    "import math\n",
    "\n",
    "def divisorGenerator(n):\n",
    "    large_divisors = []\n",
    "    for i in range(1, int(math.sqrt(n) + 1)):\n",
    "        if n % i == 0:\n",
    "            yield i\n",
    "            if i*i != n:\n",
    "                large_divisors.append(n / i)\n",
    "    for divisor in reversed(large_divisors):\n",
    "        yield divisor\n",
    "\n",
    "print(len(list(divisorGenerator(2016))))"
   ]
  },
  {
   "cell_type": "markdown",
   "metadata": {},
   "source": [
    "## Power Set"
   ]
  },
  {
   "cell_type": "code",
   "execution_count": 25,
   "metadata": {
    "collapsed": true
   },
   "outputs": [],
   "source": [
    "from itertools import chain, combinations\n",
    "\n",
    "def powerset2(iterable):\n",
    "    \"list(powerset([1,2,3])) --> [(), (1,), (2,), (3,), (1,2), (1,3), (2,3), (1,2,3)]\"\n",
    "    s = list(iterable)\n",
    "    return chain.from_iterable(combinations(s, r) for r in range(len(s)+1))"
   ]
  },
  {
   "cell_type": "code",
   "execution_count": 26,
   "metadata": {
    "collapsed": false
   },
   "outputs": [
    {
     "data": {
      "text/plain": [
       "<itertools.chain at 0x10ebcaa20>"
      ]
     },
     "execution_count": 26,
     "metadata": {},
     "output_type": "execute_result"
    }
   ],
   "source": [
    "powerset([1, 2, 3, 4])"
   ]
  },
  {
   "cell_type": "code",
   "execution_count": 31,
   "metadata": {
    "collapsed": false
   },
   "outputs": [
    {
     "name": "stdout",
     "output_type": "stream",
     "text": [
      "16\n"
     ]
    },
    {
     "data": {
      "text/plain": [
       "{(),\n",
       " (1,),\n",
       " (1, 2),\n",
       " (1, 2, 3),\n",
       " (1, 2, 3, 4),\n",
       " (1, 2, 4),\n",
       " (1, 3),\n",
       " (1, 3, 4),\n",
       " (1, 4),\n",
       " (2,),\n",
       " (2, 3),\n",
       " (2, 3, 4),\n",
       " (2, 4),\n",
       " (3,),\n",
       " (3, 4),\n",
       " (4,)}"
      ]
     },
     "execution_count": 31,
     "metadata": {},
     "output_type": "execute_result"
    }
   ],
   "source": [
    "import itertools\n",
    "\n",
    "def powerset2(L):\n",
    "  pset = set()\n",
    "  for n in range(len(L) + 1):\n",
    "    for sset in itertools.combinations(L, n):\n",
    "      pset.add(sset)\n",
    "  print(len(pset))\n",
    "  return pset\n",
    "\n",
    "powerset2([1, 2, 3, 4])"
   ]
  },
  {
   "cell_type": "code",
   "execution_count": 33,
   "metadata": {
    "collapsed": false
   },
   "outputs": [
    {
     "name": "stdout",
     "output_type": "stream",
     "text": [
      "8\n"
     ]
    },
    {
     "data": {
      "text/plain": [
       "{(), (1,), (1, 2), (1, 2, 3), (1, 3), (2,), (2, 3), (3,)}"
      ]
     },
     "execution_count": 33,
     "metadata": {},
     "output_type": "execute_result"
    }
   ],
   "source": [
    "powerset([1, 2, 3])"
   ]
  },
  {
   "cell_type": "code",
   "execution_count": 34,
   "metadata": {
    "collapsed": false
   },
   "outputs": [
    {
     "name": "stdout",
     "output_type": "stream",
     "text": [
      "256\n"
     ]
    },
    {
     "data": {
      "text/plain": [
       "{(),\n",
       " ((),),\n",
       " ((), (1,)),\n",
       " ((), (1,), (1, 2)),\n",
       " ((), (1,), (1, 2), (1, 2, 3)),\n",
       " ((), (1,), (1, 2), (1, 2, 3), (1, 3)),\n",
       " ((), (1,), (1, 2), (1, 2, 3), (1, 3), (2,)),\n",
       " ((), (1,), (1, 2), (1, 2, 3), (1, 3), (2,), (2, 3)),\n",
       " ((), (1,), (1, 2), (1, 2, 3), (1, 3), (2,), (2, 3), (3,)),\n",
       " ((), (1,), (1, 2), (1, 2, 3), (1, 3), (2,), (3,)),\n",
       " ((), (1,), (1, 2), (1, 2, 3), (1, 3), (2, 3)),\n",
       " ((), (1,), (1, 2), (1, 2, 3), (1, 3), (2, 3), (3,)),\n",
       " ((), (1,), (1, 2), (1, 2, 3), (1, 3), (3,)),\n",
       " ((), (1,), (1, 2), (1, 2, 3), (2,)),\n",
       " ((), (1,), (1, 2), (1, 2, 3), (2,), (2, 3)),\n",
       " ((), (1,), (1, 2), (1, 2, 3), (2,), (2, 3), (3,)),\n",
       " ((), (1,), (1, 2), (1, 2, 3), (2,), (3,)),\n",
       " ((), (1,), (1, 2), (1, 2, 3), (2, 3)),\n",
       " ((), (1,), (1, 2), (1, 2, 3), (2, 3), (3,)),\n",
       " ((), (1,), (1, 2), (1, 2, 3), (3,)),\n",
       " ((), (1,), (1, 2), (1, 3)),\n",
       " ((), (1,), (1, 2), (1, 3), (2,)),\n",
       " ((), (1,), (1, 2), (1, 3), (2,), (2, 3)),\n",
       " ((), (1,), (1, 2), (1, 3), (2,), (2, 3), (3,)),\n",
       " ((), (1,), (1, 2), (1, 3), (2,), (3,)),\n",
       " ((), (1,), (1, 2), (1, 3), (2, 3)),\n",
       " ((), (1,), (1, 2), (1, 3), (2, 3), (3,)),\n",
       " ((), (1,), (1, 2), (1, 3), (3,)),\n",
       " ((), (1,), (1, 2), (2,)),\n",
       " ((), (1,), (1, 2), (2,), (2, 3)),\n",
       " ((), (1,), (1, 2), (2,), (2, 3), (3,)),\n",
       " ((), (1,), (1, 2), (2,), (3,)),\n",
       " ((), (1,), (1, 2), (2, 3)),\n",
       " ((), (1,), (1, 2), (2, 3), (3,)),\n",
       " ((), (1,), (1, 2), (3,)),\n",
       " ((), (1,), (1, 2, 3)),\n",
       " ((), (1,), (1, 2, 3), (1, 3)),\n",
       " ((), (1,), (1, 2, 3), (1, 3), (2,)),\n",
       " ((), (1,), (1, 2, 3), (1, 3), (2,), (2, 3)),\n",
       " ((), (1,), (1, 2, 3), (1, 3), (2,), (2, 3), (3,)),\n",
       " ((), (1,), (1, 2, 3), (1, 3), (2,), (3,)),\n",
       " ((), (1,), (1, 2, 3), (1, 3), (2, 3)),\n",
       " ((), (1,), (1, 2, 3), (1, 3), (2, 3), (3,)),\n",
       " ((), (1,), (1, 2, 3), (1, 3), (3,)),\n",
       " ((), (1,), (1, 2, 3), (2,)),\n",
       " ((), (1,), (1, 2, 3), (2,), (2, 3)),\n",
       " ((), (1,), (1, 2, 3), (2,), (2, 3), (3,)),\n",
       " ((), (1,), (1, 2, 3), (2,), (3,)),\n",
       " ((), (1,), (1, 2, 3), (2, 3)),\n",
       " ((), (1,), (1, 2, 3), (2, 3), (3,)),\n",
       " ((), (1,), (1, 2, 3), (3,)),\n",
       " ((), (1,), (1, 3)),\n",
       " ((), (1,), (1, 3), (2,)),\n",
       " ((), (1,), (1, 3), (2,), (2, 3)),\n",
       " ((), (1,), (1, 3), (2,), (2, 3), (3,)),\n",
       " ((), (1,), (1, 3), (2,), (3,)),\n",
       " ((), (1,), (1, 3), (2, 3)),\n",
       " ((), (1,), (1, 3), (2, 3), (3,)),\n",
       " ((), (1,), (1, 3), (3,)),\n",
       " ((), (1,), (2,)),\n",
       " ((), (1,), (2,), (2, 3)),\n",
       " ((), (1,), (2,), (2, 3), (3,)),\n",
       " ((), (1,), (2,), (3,)),\n",
       " ((), (1,), (2, 3)),\n",
       " ((), (1,), (2, 3), (3,)),\n",
       " ((), (1,), (3,)),\n",
       " ((), (1, 2)),\n",
       " ((), (1, 2), (1, 2, 3)),\n",
       " ((), (1, 2), (1, 2, 3), (1, 3)),\n",
       " ((), (1, 2), (1, 2, 3), (1, 3), (2,)),\n",
       " ((), (1, 2), (1, 2, 3), (1, 3), (2,), (2, 3)),\n",
       " ((), (1, 2), (1, 2, 3), (1, 3), (2,), (2, 3), (3,)),\n",
       " ((), (1, 2), (1, 2, 3), (1, 3), (2,), (3,)),\n",
       " ((), (1, 2), (1, 2, 3), (1, 3), (2, 3)),\n",
       " ((), (1, 2), (1, 2, 3), (1, 3), (2, 3), (3,)),\n",
       " ((), (1, 2), (1, 2, 3), (1, 3), (3,)),\n",
       " ((), (1, 2), (1, 2, 3), (2,)),\n",
       " ((), (1, 2), (1, 2, 3), (2,), (2, 3)),\n",
       " ((), (1, 2), (1, 2, 3), (2,), (2, 3), (3,)),\n",
       " ((), (1, 2), (1, 2, 3), (2,), (3,)),\n",
       " ((), (1, 2), (1, 2, 3), (2, 3)),\n",
       " ((), (1, 2), (1, 2, 3), (2, 3), (3,)),\n",
       " ((), (1, 2), (1, 2, 3), (3,)),\n",
       " ((), (1, 2), (1, 3)),\n",
       " ((), (1, 2), (1, 3), (2,)),\n",
       " ((), (1, 2), (1, 3), (2,), (2, 3)),\n",
       " ((), (1, 2), (1, 3), (2,), (2, 3), (3,)),\n",
       " ((), (1, 2), (1, 3), (2,), (3,)),\n",
       " ((), (1, 2), (1, 3), (2, 3)),\n",
       " ((), (1, 2), (1, 3), (2, 3), (3,)),\n",
       " ((), (1, 2), (1, 3), (3,)),\n",
       " ((), (1, 2), (2,)),\n",
       " ((), (1, 2), (2,), (2, 3)),\n",
       " ((), (1, 2), (2,), (2, 3), (3,)),\n",
       " ((), (1, 2), (2,), (3,)),\n",
       " ((), (1, 2), (2, 3)),\n",
       " ((), (1, 2), (2, 3), (3,)),\n",
       " ((), (1, 2), (3,)),\n",
       " ((), (1, 2, 3)),\n",
       " ((), (1, 2, 3), (1, 3)),\n",
       " ((), (1, 2, 3), (1, 3), (2,)),\n",
       " ((), (1, 2, 3), (1, 3), (2,), (2, 3)),\n",
       " ((), (1, 2, 3), (1, 3), (2,), (2, 3), (3,)),\n",
       " ((), (1, 2, 3), (1, 3), (2,), (3,)),\n",
       " ((), (1, 2, 3), (1, 3), (2, 3)),\n",
       " ((), (1, 2, 3), (1, 3), (2, 3), (3,)),\n",
       " ((), (1, 2, 3), (1, 3), (3,)),\n",
       " ((), (1, 2, 3), (2,)),\n",
       " ((), (1, 2, 3), (2,), (2, 3)),\n",
       " ((), (1, 2, 3), (2,), (2, 3), (3,)),\n",
       " ((), (1, 2, 3), (2,), (3,)),\n",
       " ((), (1, 2, 3), (2, 3)),\n",
       " ((), (1, 2, 3), (2, 3), (3,)),\n",
       " ((), (1, 2, 3), (3,)),\n",
       " ((), (1, 3)),\n",
       " ((), (1, 3), (2,)),\n",
       " ((), (1, 3), (2,), (2, 3)),\n",
       " ((), (1, 3), (2,), (2, 3), (3,)),\n",
       " ((), (1, 3), (2,), (3,)),\n",
       " ((), (1, 3), (2, 3)),\n",
       " ((), (1, 3), (2, 3), (3,)),\n",
       " ((), (1, 3), (3,)),\n",
       " ((), (2,)),\n",
       " ((), (2,), (2, 3)),\n",
       " ((), (2,), (2, 3), (3,)),\n",
       " ((), (2,), (3,)),\n",
       " ((), (2, 3)),\n",
       " ((), (2, 3), (3,)),\n",
       " ((), (3,)),\n",
       " ((1,),),\n",
       " ((1,), (1, 2)),\n",
       " ((1,), (1, 2), (1, 2, 3)),\n",
       " ((1,), (1, 2), (1, 2, 3), (1, 3)),\n",
       " ((1,), (1, 2), (1, 2, 3), (1, 3), (2,)),\n",
       " ((1,), (1, 2), (1, 2, 3), (1, 3), (2,), (2, 3)),\n",
       " ((1,), (1, 2), (1, 2, 3), (1, 3), (2,), (2, 3), (3,)),\n",
       " ((1,), (1, 2), (1, 2, 3), (1, 3), (2,), (3,)),\n",
       " ((1,), (1, 2), (1, 2, 3), (1, 3), (2, 3)),\n",
       " ((1,), (1, 2), (1, 2, 3), (1, 3), (2, 3), (3,)),\n",
       " ((1,), (1, 2), (1, 2, 3), (1, 3), (3,)),\n",
       " ((1,), (1, 2), (1, 2, 3), (2,)),\n",
       " ((1,), (1, 2), (1, 2, 3), (2,), (2, 3)),\n",
       " ((1,), (1, 2), (1, 2, 3), (2,), (2, 3), (3,)),\n",
       " ((1,), (1, 2), (1, 2, 3), (2,), (3,)),\n",
       " ((1,), (1, 2), (1, 2, 3), (2, 3)),\n",
       " ((1,), (1, 2), (1, 2, 3), (2, 3), (3,)),\n",
       " ((1,), (1, 2), (1, 2, 3), (3,)),\n",
       " ((1,), (1, 2), (1, 3)),\n",
       " ((1,), (1, 2), (1, 3), (2,)),\n",
       " ((1,), (1, 2), (1, 3), (2,), (2, 3)),\n",
       " ((1,), (1, 2), (1, 3), (2,), (2, 3), (3,)),\n",
       " ((1,), (1, 2), (1, 3), (2,), (3,)),\n",
       " ((1,), (1, 2), (1, 3), (2, 3)),\n",
       " ((1,), (1, 2), (1, 3), (2, 3), (3,)),\n",
       " ((1,), (1, 2), (1, 3), (3,)),\n",
       " ((1,), (1, 2), (2,)),\n",
       " ((1,), (1, 2), (2,), (2, 3)),\n",
       " ((1,), (1, 2), (2,), (2, 3), (3,)),\n",
       " ((1,), (1, 2), (2,), (3,)),\n",
       " ((1,), (1, 2), (2, 3)),\n",
       " ((1,), (1, 2), (2, 3), (3,)),\n",
       " ((1,), (1, 2), (3,)),\n",
       " ((1,), (1, 2, 3)),\n",
       " ((1,), (1, 2, 3), (1, 3)),\n",
       " ((1,), (1, 2, 3), (1, 3), (2,)),\n",
       " ((1,), (1, 2, 3), (1, 3), (2,), (2, 3)),\n",
       " ((1,), (1, 2, 3), (1, 3), (2,), (2, 3), (3,)),\n",
       " ((1,), (1, 2, 3), (1, 3), (2,), (3,)),\n",
       " ((1,), (1, 2, 3), (1, 3), (2, 3)),\n",
       " ((1,), (1, 2, 3), (1, 3), (2, 3), (3,)),\n",
       " ((1,), (1, 2, 3), (1, 3), (3,)),\n",
       " ((1,), (1, 2, 3), (2,)),\n",
       " ((1,), (1, 2, 3), (2,), (2, 3)),\n",
       " ((1,), (1, 2, 3), (2,), (2, 3), (3,)),\n",
       " ((1,), (1, 2, 3), (2,), (3,)),\n",
       " ((1,), (1, 2, 3), (2, 3)),\n",
       " ((1,), (1, 2, 3), (2, 3), (3,)),\n",
       " ((1,), (1, 2, 3), (3,)),\n",
       " ((1,), (1, 3)),\n",
       " ((1,), (1, 3), (2,)),\n",
       " ((1,), (1, 3), (2,), (2, 3)),\n",
       " ((1,), (1, 3), (2,), (2, 3), (3,)),\n",
       " ((1,), (1, 3), (2,), (3,)),\n",
       " ((1,), (1, 3), (2, 3)),\n",
       " ((1,), (1, 3), (2, 3), (3,)),\n",
       " ((1,), (1, 3), (3,)),\n",
       " ((1,), (2,)),\n",
       " ((1,), (2,), (2, 3)),\n",
       " ((1,), (2,), (2, 3), (3,)),\n",
       " ((1,), (2,), (3,)),\n",
       " ((1,), (2, 3)),\n",
       " ((1,), (2, 3), (3,)),\n",
       " ((1,), (3,)),\n",
       " ((1, 2),),\n",
       " ((1, 2), (1, 2, 3)),\n",
       " ((1, 2), (1, 2, 3), (1, 3)),\n",
       " ((1, 2), (1, 2, 3), (1, 3), (2,)),\n",
       " ((1, 2), (1, 2, 3), (1, 3), (2,), (2, 3)),\n",
       " ((1, 2), (1, 2, 3), (1, 3), (2,), (2, 3), (3,)),\n",
       " ((1, 2), (1, 2, 3), (1, 3), (2,), (3,)),\n",
       " ((1, 2), (1, 2, 3), (1, 3), (2, 3)),\n",
       " ((1, 2), (1, 2, 3), (1, 3), (2, 3), (3,)),\n",
       " ((1, 2), (1, 2, 3), (1, 3), (3,)),\n",
       " ((1, 2), (1, 2, 3), (2,)),\n",
       " ((1, 2), (1, 2, 3), (2,), (2, 3)),\n",
       " ((1, 2), (1, 2, 3), (2,), (2, 3), (3,)),\n",
       " ((1, 2), (1, 2, 3), (2,), (3,)),\n",
       " ((1, 2), (1, 2, 3), (2, 3)),\n",
       " ((1, 2), (1, 2, 3), (2, 3), (3,)),\n",
       " ((1, 2), (1, 2, 3), (3,)),\n",
       " ((1, 2), (1, 3)),\n",
       " ((1, 2), (1, 3), (2,)),\n",
       " ((1, 2), (1, 3), (2,), (2, 3)),\n",
       " ((1, 2), (1, 3), (2,), (2, 3), (3,)),\n",
       " ((1, 2), (1, 3), (2,), (3,)),\n",
       " ((1, 2), (1, 3), (2, 3)),\n",
       " ((1, 2), (1, 3), (2, 3), (3,)),\n",
       " ((1, 2), (1, 3), (3,)),\n",
       " ((1, 2), (2,)),\n",
       " ((1, 2), (2,), (2, 3)),\n",
       " ((1, 2), (2,), (2, 3), (3,)),\n",
       " ((1, 2), (2,), (3,)),\n",
       " ((1, 2), (2, 3)),\n",
       " ((1, 2), (2, 3), (3,)),\n",
       " ((1, 2), (3,)),\n",
       " ((1, 2, 3),),\n",
       " ((1, 2, 3), (1, 3)),\n",
       " ((1, 2, 3), (1, 3), (2,)),\n",
       " ((1, 2, 3), (1, 3), (2,), (2, 3)),\n",
       " ((1, 2, 3), (1, 3), (2,), (2, 3), (3,)),\n",
       " ((1, 2, 3), (1, 3), (2,), (3,)),\n",
       " ((1, 2, 3), (1, 3), (2, 3)),\n",
       " ((1, 2, 3), (1, 3), (2, 3), (3,)),\n",
       " ((1, 2, 3), (1, 3), (3,)),\n",
       " ((1, 2, 3), (2,)),\n",
       " ((1, 2, 3), (2,), (2, 3)),\n",
       " ((1, 2, 3), (2,), (2, 3), (3,)),\n",
       " ((1, 2, 3), (2,), (3,)),\n",
       " ((1, 2, 3), (2, 3)),\n",
       " ((1, 2, 3), (2, 3), (3,)),\n",
       " ((1, 2, 3), (3,)),\n",
       " ((1, 3),),\n",
       " ((1, 3), (2,)),\n",
       " ((1, 3), (2,), (2, 3)),\n",
       " ((1, 3), (2,), (2, 3), (3,)),\n",
       " ((1, 3), (2,), (3,)),\n",
       " ((1, 3), (2, 3)),\n",
       " ((1, 3), (2, 3), (3,)),\n",
       " ((1, 3), (3,)),\n",
       " ((2,),),\n",
       " ((2,), (2, 3)),\n",
       " ((2,), (2, 3), (3,)),\n",
       " ((2,), (3,)),\n",
       " ((2, 3),),\n",
       " ((2, 3), (3,)),\n",
       " ((3,),)}"
      ]
     },
     "execution_count": 34,
     "metadata": {},
     "output_type": "execute_result"
    }
   ],
   "source": [
    "powerset([(), (1,), (1, 2), (1, 2, 3), (1, 3), (2,), (2, 3), (3,)])"
   ]
  },
  {
   "cell_type": "code",
   "execution_count": null,
   "metadata": {
    "collapsed": true
   },
   "outputs": [],
   "source": []
  }
 ],
 "metadata": {
  "kernelspec": {
   "display_name": "Python 3",
   "language": "python",
   "name": "python3"
  },
  "language_info": {
   "codemirror_mode": {
    "name": "ipython",
    "version": 3
   },
   "file_extension": ".py",
   "mimetype": "text/x-python",
   "name": "python",
   "nbconvert_exporter": "python",
   "pygments_lexer": "ipython3",
   "version": "3.6.0"
  },
  "toc": {
   "colors": {
    "hover_highlight": "#DAA520",
    "navigate_num": "#000000",
    "navigate_text": "#333333",
    "running_highlight": "#FF0000",
    "selected_highlight": "#FFD700",
    "sidebar_border": "#EEEEEE",
    "wrapper_background": "#FFFFFF"
   },
   "moveMenuLeft": true,
   "nav_menu": {
    "height": "48px",
    "width": "252px"
   },
   "navigate_menu": true,
   "number_sections": true,
   "sideBar": true,
   "skip_h1_title": false,
   "threshold": 4,
   "toc_cell": false,
   "toc_position": {},
   "toc_section_display": "block",
   "toc_window_display": false,
   "widenNotebook": false
  },
  "widgets": {
   "state": {
    "85653496be994821a2335e3adee9ca3f": {
     "views": [
      {
       "cell_index": 26
      }
     ]
    }
   },
   "version": "1.2.0"
  }
 },
 "nbformat": 4,
 "nbformat_minor": 2
}
